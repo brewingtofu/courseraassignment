{
 "cells": [
  {
   "cell_type": "markdown",
   "id": "1f014aca-00ef-4174-b5f9-a5d751ee64a3",
   "metadata": {
    "tags": []
   },
   "source": [
    "# Data Science Tools and Ecosystem"
   ]
  },
  {
   "cell_type": "markdown",
   "id": "019d020d-4d13-4407-a3ef-a7d32de39768",
   "metadata": {},
   "source": [
    "### In this notebook, Data Science Tools and Ecosystem are summarized."
   ]
  },
  {
   "cell_type": "markdown",
   "id": "af0b839f-6113-44c1-a3ba-cf3e114bbeb1",
   "metadata": {
    "tags": []
   },
   "source": [
    "**Objectives:**\n",
    "\n",
    "- List popular languages for Data Science\n",
    "- Introduce commonly used libraries in data science\n",
    "- Demonstrate basic arithmetic expressions in Python\n",
    "- Convert minutes to hours using Python\n",
    "- Introduce Jupyter Notebook and Markdown usage"
   ]
  },
  {
   "cell_type": "markdown",
   "id": "053d334c-dfca-4019-8cbd-2bdd4aa73d7d",
   "metadata": {},
   "source": [
    "### Some of the popular languages that Data Scientists use are:\n",
    "\n",
    "1. Python\n",
    "2. R\n",
    "3. SQL"
   ]
  },
  {
   "cell_type": "markdown",
   "id": "2a63e0fd-7c89-4780-8057-324907180ca2",
   "metadata": {
    "tags": []
   },
   "source": [
    "### Some of the commonly used libraries used by Data Scientists include:\n",
    "    1. Pandas\n",
    "    2. NumPy\n",
    "    3. Scikit-learn"
   ]
  },
  {
   "cell_type": "markdown",
   "id": "a86d7061-d1ba-473d-876a-eccb2bdbf256",
   "metadata": {
    "tags": []
   },
   "source": [
    "| Data Science Tools |\n",
    "|--------------------|\n",
    "| Jupyter Notebook   |\n",
    "| RStudio            |\n",
    "| VSCode             |"
   ]
  },
  {
   "cell_type": "markdown",
   "id": "1ce08a7e-d7dd-4e0f-aa28-642c9033836e",
   "metadata": {},
   "source": [
    "###  Below are a few examples of evaluating arithmetic expressions in Python:\n"
   ]
  },
  {
   "cell_type": "code",
   "execution_count": 8,
   "id": "c4de5981-23b2-4e08-bdbd-f8e663b62e13",
   "metadata": {
    "tags": []
   },
   "outputs": [
    {
     "data": {
      "text/plain": [
       "17"
      ]
     },
     "execution_count": 8,
     "metadata": {},
     "output_type": "execute_result"
    }
   ],
   "source": [
    "# This a simple arithmetic expression to mutiply then add integers\n",
    "(3*4)+5"
   ]
  },
  {
   "cell_type": "code",
   "execution_count": 9,
   "id": "f334b40d-5bf6-400d-8dd8-3ab28c607b5f",
   "metadata": {
    "tags": []
   },
   "outputs": [
    {
     "data": {
      "text/plain": [
       "3.3333333333333335"
      ]
     },
     "execution_count": 9,
     "metadata": {},
     "output_type": "execute_result"
    }
   ],
   "source": [
    "# This will convert 200 minutes to hours by dividing by 60.\n",
    "minutes = 200\n",
    "hours = minutes / 60\n",
    "hours"
   ]
  },
  {
   "cell_type": "markdown",
   "id": "72c4a96b-c45e-4dbd-ba92-ea90d502dde1",
   "metadata": {},
   "source": [
    "## Author\n",
    "\n",
    "Alya Shafa Nurhafiza"
   ]
  },
  {
   "cell_type": "code",
   "execution_count": null,
   "id": "e593fbf7-7ab8-4e5b-aade-c86f4c688465",
   "metadata": {},
   "outputs": [],
   "source": []
  }
 ],
 "metadata": {
  "kernelspec": {
   "display_name": "Python",
   "language": "python",
   "name": "conda-env-python-py"
  },
  "language_info": {
   "codemirror_mode": {
    "name": "ipython",
    "version": 3
   },
   "file_extension": ".py",
   "mimetype": "text/x-python",
   "name": "python",
   "nbconvert_exporter": "python",
   "pygments_lexer": "ipython3",
   "version": "3.7.12"
  }
 },
 "nbformat": 4,
 "nbformat_minor": 5
}
